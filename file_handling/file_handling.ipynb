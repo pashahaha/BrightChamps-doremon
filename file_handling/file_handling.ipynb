{
 "cells": [
  {
   "cell_type": "code",
   "execution_count": 6,
   "metadata": {},
   "outputs": [
    {
     "name": "stdout",
     "output_type": "stream",
     "text": [
      "868\n"
     ]
    }
   ],
   "source": [
    "import csv\n",
    "with open('IPL_2018.csv') as f:\n",
    "    data = csv.reader(f)\n",
    "\n",
    "    data_list = list(data)\n",
    "\n",
    "sixers = []\n",
    "for row in data_list[1:]:\n",
    "    sixers.append(int(row[12]))\n",
    "print(sum(sixers))"
   ]
  },
  {
   "cell_type": "code",
   "execution_count": 11,
   "metadata": {},
   "outputs": [],
   "source": [
    "import csv\n",
    "with open('new.csv', 'w') as f:\n",
    "    csv_writer = csv.writer(f)\n",
    "    header = ('Name', 'Class', 'City')\n",
    "    data = (\n",
    "        ('John', 'A', 'London'),\n",
    "        ('Mark', 'B', 'New York'),\n",
    "        ('Tom', 'C', 'Ohio'),\n",
    "    )\n",
    "\n",
    "    csv_writer.writerow(header)\n",
    "    for row in data:\n",
    "        csv_writer.writerow(row)"
   ]
  }
 ],
 "metadata": {
  "kernelspec": {
   "display_name": "Python 3",
   "language": "python",
   "name": "python3"
  },
  "language_info": {
   "codemirror_mode": {
    "name": "ipython",
    "version": 3
   },
   "file_extension": ".py",
   "mimetype": "text/x-python",
   "name": "python",
   "nbconvert_exporter": "python",
   "pygments_lexer": "ipython3",
   "version": "3.13.0"
  }
 },
 "nbformat": 4,
 "nbformat_minor": 2
}
